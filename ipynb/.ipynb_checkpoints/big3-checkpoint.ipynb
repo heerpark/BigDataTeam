{
 "cells": [
  {
   "cell_type": "code",
   "execution_count": 31,
   "id": "db25bf68",
   "metadata": {},
   "outputs": [],
   "source": [
    "import pandas as pd\n",
    "import matplotlib.pyplot as plt\n",
    "plt.rc('font', family = 'AppleGothic')\n",
    "plt.rcParams['axes.unicode_minus'] = False"
   ]
  },
  {
   "cell_type": "markdown",
   "id": "318eab0d",
   "metadata": {},
   "source": [
    "# 뇌졸증"
   ]
  },
  {
   "cell_type": "code",
   "execution_count": 32,
   "id": "f6408933",
   "metadata": {},
   "outputs": [],
   "source": [
    "location1 = '/Users/phr/Desktop/BigTeam/data/뇌졸증_시도.csv'\n",
    "#location2 = '/Users/phr/Desktop/BigTeam/data/뇌졸증_나이.csv'"
   ]
  },
  {
   "cell_type": "code",
   "execution_count": 54,
   "id": "5f6c6b93",
   "metadata": {},
   "outputs": [],
   "source": [
    "df_1 = pd.read_csv(location1, encoding='cp949', index_col = 0) \n",
    "#df_2 = pd.read_csv(location2, encoding='cp949', index_col = 0) "
   ]
  },
  {
   "cell_type": "code",
   "execution_count": 55,
   "id": "0385a3c5",
   "metadata": {},
   "outputs": [
    {
     "data": {
      "text/html": [
       "<div>\n",
       "<style scoped>\n",
       "    .dataframe tbody tr th:only-of-type {\n",
       "        vertical-align: middle;\n",
       "    }\n",
       "\n",
       "    .dataframe tbody tr th {\n",
       "        vertical-align: top;\n",
       "    }\n",
       "\n",
       "    .dataframe thead th {\n",
       "        text-align: right;\n",
       "    }\n",
       "</style>\n",
       "<table border=\"1\" class=\"dataframe\">\n",
       "  <thead>\n",
       "    <tr style=\"text-align: right;\">\n",
       "      <th></th>\n",
       "      <th>지역별(1)</th>\n",
       "      <th>2014</th>\n",
       "      <th>2015</th>\n",
       "      <th>2016</th>\n",
       "      <th>2017</th>\n",
       "      <th>2018</th>\n",
       "      <th>2019</th>\n",
       "      <th>2020</th>\n",
       "      <th>2021</th>\n",
       "    </tr>\n",
       "    <tr>\n",
       "      <th>응급진료결과별(1)</th>\n",
       "      <th></th>\n",
       "      <th></th>\n",
       "      <th></th>\n",
       "      <th></th>\n",
       "      <th></th>\n",
       "      <th></th>\n",
       "      <th></th>\n",
       "      <th></th>\n",
       "      <th></th>\n",
       "    </tr>\n",
       "  </thead>\n",
       "  <tbody>\n",
       "    <tr>\n",
       "      <th>응급진료결과별(1)</th>\n",
       "      <td>지역별(1)</td>\n",
       "      <td>뇌졸중 환자의 응급진료 결과 현황</td>\n",
       "      <td>뇌졸중 환자의 응급진료 결과 현황</td>\n",
       "      <td>뇌졸중 환자의 응급진료 결과 현황</td>\n",
       "      <td>뇌졸중 환자의 응급진료 결과 현황</td>\n",
       "      <td>뇌졸중 환자의 응급진료 결과 현황</td>\n",
       "      <td>뇌졸중 환자의 응급진료 결과 현황</td>\n",
       "      <td>뇌졸중 환자의 응급진료 결과 현황</td>\n",
       "      <td>뇌졸중 환자의 응급진료 결과 현황</td>\n",
       "    </tr>\n",
       "    <tr>\n",
       "      <th>계</th>\n",
       "      <td>전체</td>\n",
       "      <td>93670</td>\n",
       "      <td>94813</td>\n",
       "      <td>102529</td>\n",
       "      <td>111727</td>\n",
       "      <td>113455</td>\n",
       "      <td>120584</td>\n",
       "      <td>112874</td>\n",
       "      <td>120305</td>\n",
       "    </tr>\n",
       "    <tr>\n",
       "      <th>계</th>\n",
       "      <td>서울</td>\n",
       "      <td>23220</td>\n",
       "      <td>22444</td>\n",
       "      <td>24006</td>\n",
       "      <td>25562</td>\n",
       "      <td>25811</td>\n",
       "      <td>24653</td>\n",
       "      <td>24086</td>\n",
       "      <td>25348</td>\n",
       "    </tr>\n",
       "    <tr>\n",
       "      <th>계</th>\n",
       "      <td>부산</td>\n",
       "      <td>4904</td>\n",
       "      <td>5281</td>\n",
       "      <td>5244</td>\n",
       "      <td>5605</td>\n",
       "      <td>6108</td>\n",
       "      <td>6610</td>\n",
       "      <td>6441</td>\n",
       "      <td>6868</td>\n",
       "    </tr>\n",
       "    <tr>\n",
       "      <th>계</th>\n",
       "      <td>대구</td>\n",
       "      <td>7124</td>\n",
       "      <td>6897</td>\n",
       "      <td>7250</td>\n",
       "      <td>7539</td>\n",
       "      <td>7387</td>\n",
       "      <td>8217</td>\n",
       "      <td>7234</td>\n",
       "      <td>7686</td>\n",
       "    </tr>\n",
       "    <tr>\n",
       "      <th>...</th>\n",
       "      <td>...</td>\n",
       "      <td>...</td>\n",
       "      <td>...</td>\n",
       "      <td>...</td>\n",
       "      <td>...</td>\n",
       "      <td>...</td>\n",
       "      <td>...</td>\n",
       "      <td>...</td>\n",
       "      <td>...</td>\n",
       "    </tr>\n",
       "    <tr>\n",
       "      <th>미상/미입력</th>\n",
       "      <td>전북</td>\n",
       "      <td>-</td>\n",
       "      <td>2</td>\n",
       "      <td>6</td>\n",
       "      <td>2</td>\n",
       "      <td>-</td>\n",
       "      <td>-</td>\n",
       "      <td>-</td>\n",
       "      <td>-</td>\n",
       "    </tr>\n",
       "    <tr>\n",
       "      <th>미상/미입력</th>\n",
       "      <td>전남</td>\n",
       "      <td>-</td>\n",
       "      <td>-</td>\n",
       "      <td>-</td>\n",
       "      <td>2</td>\n",
       "      <td>-</td>\n",
       "      <td>1</td>\n",
       "      <td>1</td>\n",
       "      <td>-</td>\n",
       "    </tr>\n",
       "    <tr>\n",
       "      <th>미상/미입력</th>\n",
       "      <td>경북</td>\n",
       "      <td>-</td>\n",
       "      <td>-</td>\n",
       "      <td>-</td>\n",
       "      <td>-</td>\n",
       "      <td>-</td>\n",
       "      <td>-</td>\n",
       "      <td>-</td>\n",
       "      <td>-</td>\n",
       "    </tr>\n",
       "    <tr>\n",
       "      <th>미상/미입력</th>\n",
       "      <td>경남</td>\n",
       "      <td>38</td>\n",
       "      <td>18</td>\n",
       "      <td>-</td>\n",
       "      <td>3</td>\n",
       "      <td>1</td>\n",
       "      <td>1</td>\n",
       "      <td>-</td>\n",
       "      <td>-</td>\n",
       "    </tr>\n",
       "    <tr>\n",
       "      <th>미상/미입력</th>\n",
       "      <td>제주</td>\n",
       "      <td>-</td>\n",
       "      <td>-</td>\n",
       "      <td>-</td>\n",
       "      <td>-</td>\n",
       "      <td>-</td>\n",
       "      <td>-</td>\n",
       "      <td>-</td>\n",
       "      <td>-</td>\n",
       "    </tr>\n",
       "  </tbody>\n",
       "</table>\n",
       "<p>127 rows × 9 columns</p>\n",
       "</div>"
      ],
      "text/plain": [
       "            지역별(1)                2014                2015  \\\n",
       "응급진료결과별(1)                                                   \n",
       "응급진료결과별(1)  지역별(1)  뇌졸중 환자의 응급진료 결과 현황  뇌졸중 환자의 응급진료 결과 현황   \n",
       "계               전체               93670               94813   \n",
       "계               서울               23220               22444   \n",
       "계               부산                4904                5281   \n",
       "계               대구                7124                6897   \n",
       "...            ...                 ...                 ...   \n",
       "미상/미입력          전북                   -                   2   \n",
       "미상/미입력          전남                   -                   -   \n",
       "미상/미입력          경북                   -                   -   \n",
       "미상/미입력          경남                  38                  18   \n",
       "미상/미입력          제주                   -                   -   \n",
       "\n",
       "                          2016                2017                2018  \\\n",
       "응급진료결과별(1)                                                               \n",
       "응급진료결과별(1)  뇌졸중 환자의 응급진료 결과 현황  뇌졸중 환자의 응급진료 결과 현황  뇌졸중 환자의 응급진료 결과 현황   \n",
       "계                       102529              111727              113455   \n",
       "계                        24006               25562               25811   \n",
       "계                         5244                5605                6108   \n",
       "계                         7250                7539                7387   \n",
       "...                        ...                 ...                 ...   \n",
       "미상/미입력                       6                   2                   -   \n",
       "미상/미입력                       -                   2                   -   \n",
       "미상/미입력                       -                   -                   -   \n",
       "미상/미입력                       -                   3                   1   \n",
       "미상/미입력                       -                   -                   -   \n",
       "\n",
       "                          2019                2020                2021  \n",
       "응급진료결과별(1)                                                              \n",
       "응급진료결과별(1)  뇌졸중 환자의 응급진료 결과 현황  뇌졸중 환자의 응급진료 결과 현황  뇌졸중 환자의 응급진료 결과 현황  \n",
       "계                       120584              112874              120305  \n",
       "계                        24653               24086               25348  \n",
       "계                         6610                6441                6868  \n",
       "계                         8217                7234                7686  \n",
       "...                        ...                 ...                 ...  \n",
       "미상/미입력                       -                   -                   -  \n",
       "미상/미입력                       1                   1                   -  \n",
       "미상/미입력                       -                   -                   -  \n",
       "미상/미입력                       1                   -                   -  \n",
       "미상/미입력                       -                   -                   -  \n",
       "\n",
       "[127 rows x 9 columns]"
      ]
     },
     "execution_count": 55,
     "metadata": {},
     "output_type": "execute_result"
    }
   ],
   "source": [
    "df_1"
   ]
  },
  {
   "cell_type": "code",
   "execution_count": 56,
   "id": "aa820ffc",
   "metadata": {},
   "outputs": [],
   "source": [
    "loc_list = df_1['지역별(1)'].unique()"
   ]
  },
  {
   "cell_type": "code",
   "execution_count": 57,
   "id": "9f3f41a3",
   "metadata": {},
   "outputs": [
    {
     "data": {
      "text/plain": [
       "array(['지역별(1)', '전체', '서울', '부산', '대구', '인천', '광주', '대전', '울산', '세종',\n",
       "       '경기', '강원', '충북', '충남', '전북', '전남', '경북', '경남', '제주'], dtype=object)"
      ]
     },
     "execution_count": 57,
     "metadata": {},
     "output_type": "execute_result"
    }
   ],
   "source": [
    "loc_list"
   ]
  },
  {
   "cell_type": "code",
   "execution_count": 58,
   "id": "d13be57e",
   "metadata": {},
   "outputs": [],
   "source": [
    "loc_list = loc_list[1:]"
   ]
  },
  {
   "cell_type": "code",
   "execution_count": 59,
   "id": "e66d879b",
   "metadata": {},
   "outputs": [
    {
     "data": {
      "text/plain": [
       "array(['전체', '서울', '부산', '대구', '인천', '광주', '대전', '울산', '세종', '경기', '강원',\n",
       "       '충북', '충남', '전북', '전남', '경북', '경남', '제주'], dtype=object)"
      ]
     },
     "execution_count": 59,
     "metadata": {},
     "output_type": "execute_result"
    }
   ],
   "source": [
    "loc_list"
   ]
  },
  {
   "cell_type": "code",
   "execution_count": 60,
   "id": "a5d9e8e5",
   "metadata": {},
   "outputs": [],
   "source": [
    "loc_list = list(loc_list)"
   ]
  },
  {
   "cell_type": "code",
   "execution_count": 61,
   "id": "76739664",
   "metadata": {},
   "outputs": [
    {
     "data": {
      "text/plain": [
       "['전체',\n",
       " '서울',\n",
       " '부산',\n",
       " '대구',\n",
       " '인천',\n",
       " '광주',\n",
       " '대전',\n",
       " '울산',\n",
       " '세종',\n",
       " '경기',\n",
       " '강원',\n",
       " '충북',\n",
       " '충남',\n",
       " '전북',\n",
       " '전남',\n",
       " '경북',\n",
       " '경남',\n",
       " '제주']"
      ]
     },
     "execution_count": 61,
     "metadata": {},
     "output_type": "execute_result"
    }
   ],
   "source": [
    "loc_list"
   ]
  },
  {
   "cell_type": "code",
   "execution_count": 63,
   "id": "08ad8124",
   "metadata": {},
   "outputs": [],
   "source": [
    "tot_data = df_1.loc['계', '2014']"
   ]
  },
  {
   "cell_type": "code",
   "execution_count": 64,
   "id": "d551f649",
   "metadata": {},
   "outputs": [
    {
     "data": {
      "text/plain": [
       "응급진료결과별(1)\n",
       "계    93670\n",
       "계    23220\n",
       "계     4904\n",
       "계     7124\n",
       "계     3703\n",
       "계     4095\n",
       "계     4829\n",
       "계     1254\n",
       "계        -\n",
       "계    19651\n",
       "계     3497\n",
       "계     1821\n",
       "계     3074\n",
       "계     4344\n",
       "계     1931\n",
       "계     4133\n",
       "계     4527\n",
       "계     1563\n",
       "Name: 2014, dtype: object"
      ]
     },
     "execution_count": 64,
     "metadata": {},
     "output_type": "execute_result"
    }
   ],
   "source": [
    "tot_data"
   ]
  },
  {
   "cell_type": "code",
   "execution_count": 65,
   "id": "bd2504d5",
   "metadata": {},
   "outputs": [],
   "source": [
    "year_list = list(df_1.columns)"
   ]
  },
  {
   "cell_type": "code",
   "execution_count": 66,
   "id": "edf5b027",
   "metadata": {},
   "outputs": [
    {
     "data": {
      "text/plain": [
       "['지역별(1)', '2014', '2015', '2016', '2017', '2018', '2019', '2020', '2021']"
      ]
     },
     "execution_count": 66,
     "metadata": {},
     "output_type": "execute_result"
    }
   ],
   "source": [
    "year_list"
   ]
  },
  {
   "cell_type": "code",
   "execution_count": 67,
   "id": "4ef0535c",
   "metadata": {},
   "outputs": [],
   "source": [
    "year_list = year_list[1:]"
   ]
  },
  {
   "cell_type": "code",
   "execution_count": 68,
   "id": "397151c5",
   "metadata": {},
   "outputs": [
    {
     "data": {
      "text/plain": [
       "['2014', '2015', '2016', '2017', '2018', '2019', '2020', '2021']"
      ]
     },
     "execution_count": 68,
     "metadata": {},
     "output_type": "execute_result"
    }
   ],
   "source": [
    "year_list"
   ]
  },
  {
   "cell_type": "code",
   "execution_count": 71,
   "id": "0d81eded",
   "metadata": {},
   "outputs": [],
   "source": [
    "die_data = df_1.loc['사망', '2014']"
   ]
  },
  {
   "cell_type": "code",
   "execution_count": 72,
   "id": "71a55663",
   "metadata": {
    "scrolled": true
   },
   "outputs": [
    {
     "data": {
      "text/plain": [
       "응급진료결과별(1)\n",
       "사망    423\n",
       "사망     45\n",
       "사망     19\n",
       "사망     42\n",
       "사망     14\n",
       "사망     33\n",
       "사망     23\n",
       "사망      5\n",
       "사망      -\n",
       "사망     60\n",
       "사망     19\n",
       "사망     10\n",
       "사망     11\n",
       "사망     21\n",
       "사망      7\n",
       "사망     15\n",
       "사망     97\n",
       "사망      2\n",
       "Name: 2014, dtype: object"
      ]
     },
     "execution_count": 72,
     "metadata": {},
     "output_type": "execute_result"
    }
   ],
   "source": [
    "die_data"
   ]
  },
  {
   "cell_type": "code",
   "execution_count": 74,
   "id": "9ef8b9d2",
   "metadata": {},
   "outputs": [],
   "source": [
    "die_rate_dic = {}\n",
    "die_rate_list = []"
   ]
  },
  {
   "cell_type": "code",
   "execution_count": 76,
   "id": "f856a92c",
   "metadata": {},
   "outputs": [
    {
     "data": {
      "text/plain": [
       "['전체',\n",
       " '서울',\n",
       " '부산',\n",
       " '대구',\n",
       " '인천',\n",
       " '광주',\n",
       " '대전',\n",
       " '울산',\n",
       " '세종',\n",
       " '경기',\n",
       " '강원',\n",
       " '충북',\n",
       " '충남',\n",
       " '전북',\n",
       " '전남',\n",
       " '경북',\n",
       " '경남',\n",
       " '제주']"
      ]
     },
     "execution_count": 76,
     "metadata": {},
     "output_type": "execute_result"
    }
   ],
   "source": [
    "loc_list"
   ]
  },
  {
   "cell_type": "code",
   "execution_count": 78,
   "id": "9e9efe00",
   "metadata": {},
   "outputs": [],
   "source": [
    "loc_list = loc_list[1:]"
   ]
  },
  {
   "cell_type": "code",
   "execution_count": 79,
   "id": "433f0a41",
   "metadata": {},
   "outputs": [],
   "source": [
    "tot_list = []    "
   ]
  },
  {
   "cell_type": "code",
   "execution_count": 81,
   "id": "c6c4b887",
   "metadata": {},
   "outputs": [],
   "source": [
    "for i in year_list:\n",
    "    series = df_1.loc['계',i]\n",
    "    tot_list.append(series)"
   ]
  },
  {
   "cell_type": "code",
   "execution_count": 82,
   "id": "3d0bd1d3",
   "metadata": {},
   "outputs": [
    {
     "data": {
      "text/plain": [
       "[응급진료결과별(1)\n",
       " 계    93670\n",
       " 계    23220\n",
       " 계     4904\n",
       " 계     7124\n",
       " 계     3703\n",
       " 계     4095\n",
       " 계     4829\n",
       " 계     1254\n",
       " 계        -\n",
       " 계    19651\n",
       " 계     3497\n",
       " 계     1821\n",
       " 계     3074\n",
       " 계     4344\n",
       " 계     1931\n",
       " 계     4133\n",
       " 계     4527\n",
       " 계     1563\n",
       " Name: 2014, dtype: object,\n",
       " 응급진료결과별(1)\n",
       " 계    94813\n",
       " 계    22444\n",
       " 계     5281\n",
       " 계     6897\n",
       " 계     4271\n",
       " 계     4773\n",
       " 계     4325\n",
       " 계     1416\n",
       " 계        -\n",
       " 계    19209\n",
       " 계     3729\n",
       " 계     1773\n",
       " 계     3071\n",
       " 계     5344\n",
       " 계     1912\n",
       " 계     4403\n",
       " 계     4372\n",
       " 계     1593\n",
       " Name: 2015, dtype: object,\n",
       " 응급진료결과별(1)\n",
       " 계    102529\n",
       " 계     24006\n",
       " 계      5244\n",
       " 계      7250\n",
       " 계      5074\n",
       " 계      5020\n",
       " 계      4375\n",
       " 계      1447\n",
       " 계         -\n",
       " 계     21681\n",
       " 계      3867\n",
       " 계      2278\n",
       " 계      3689\n",
       " 계      6027\n",
       " 계      2181\n",
       " 계      4140\n",
       " 계      4465\n",
       " 계      1785\n",
       " Name: 2016, dtype: object,\n",
       " 응급진료결과별(1)\n",
       " 계    111727\n",
       " 계     25562\n",
       " 계      5605\n",
       " 계      7539\n",
       " 계      5482\n",
       " 계      5003\n",
       " 계      4780\n",
       " 계      1450\n",
       " 계         -\n",
       " 계     24450\n",
       " 계      4687\n",
       " 계      2161\n",
       " 계      3859\n",
       " 계      6895\n",
       " 계      2416\n",
       " 계      4649\n",
       " 계      5213\n",
       " 계      1976\n",
       " Name: 2017, dtype: object,\n",
       " 응급진료결과별(1)\n",
       " 계    113455\n",
       " 계     25811\n",
       " 계      6108\n",
       " 계      7387\n",
       " 계      5772\n",
       " 계      5176\n",
       " 계      4773\n",
       " 계      1535\n",
       " 계         -\n",
       " 계     24809\n",
       " 계      4924\n",
       " 계      2489\n",
       " 계      3766\n",
       " 계      6025\n",
       " 계      2727\n",
       " 계      4452\n",
       " 계      5829\n",
       " 계      1872\n",
       " Name: 2018, dtype: object,\n",
       " 응급진료결과별(1)\n",
       " 계    120584\n",
       " 계     24653\n",
       " 계      6610\n",
       " 계      8217\n",
       " 계      6742\n",
       " 계      5499\n",
       " 계      4788\n",
       " 계      1642\n",
       " 계         -\n",
       " 계     28130\n",
       " 계      5115\n",
       " 계      3679\n",
       " 계      3926\n",
       " 계      6230\n",
       " 계      3104\n",
       " 계      4316\n",
       " 계      5853\n",
       " 계      2080\n",
       " Name: 2019, dtype: object,\n",
       " 응급진료결과별(1)\n",
       " 계    112874\n",
       " 계     24086\n",
       " 계      6441\n",
       " 계      7234\n",
       " 계      6223\n",
       " 계      5155\n",
       " 계      4412\n",
       " 계      1634\n",
       " 계       226\n",
       " 계     25072\n",
       " 계      4694\n",
       " 계      3347\n",
       " 계      3664\n",
       " 계      6195\n",
       " 계      2835\n",
       " 계      4243\n",
       " 계      5575\n",
       " 계      1838\n",
       " Name: 2020, dtype: object,\n",
       " 응급진료결과별(1)\n",
       " 계    120305\n",
       " 계     25348\n",
       " 계      6868\n",
       " 계      7686\n",
       " 계      6799\n",
       " 계      4865\n",
       " 계      4280\n",
       " 계      1764\n",
       " 계       617\n",
       " 계     27293\n",
       " 계      5074\n",
       " 계      3341\n",
       " 계      4136\n",
       " 계      6621\n",
       " 계      2936\n",
       " 계      4508\n",
       " 계      6140\n",
       " 계      2029\n",
       " Name: 2021, dtype: object]"
      ]
     },
     "execution_count": 82,
     "metadata": {},
     "output_type": "execute_result"
    }
   ],
   "source": [
    "tot_list"
   ]
  },
  {
   "cell_type": "code",
   "execution_count": 83,
   "id": "0be7fdf4",
   "metadata": {},
   "outputs": [
    {
     "data": {
      "text/plain": [
       "8"
      ]
     },
     "execution_count": 83,
     "metadata": {},
     "output_type": "execute_result"
    }
   ],
   "source": [
    "len(tot_list)"
   ]
  },
  {
   "cell_type": "code",
   "execution_count": 86,
   "id": "24b7e296",
   "metadata": {},
   "outputs": [],
   "source": [
    "die_list = []\n",
    "for i in year_list:\n",
    "    series = df_1.loc['사망',i]\n",
    "    die_list.append(series)"
   ]
  },
  {
   "cell_type": "code",
   "execution_count": 87,
   "id": "f2d3aeb8",
   "metadata": {},
   "outputs": [
    {
     "data": {
      "text/plain": [
       "[응급진료결과별(1)\n",
       " 사망    423\n",
       " 사망     45\n",
       " 사망     19\n",
       " 사망     42\n",
       " 사망     14\n",
       " 사망     33\n",
       " 사망     23\n",
       " 사망      5\n",
       " 사망      -\n",
       " 사망     60\n",
       " 사망     19\n",
       " 사망     10\n",
       " 사망     11\n",
       " 사망     21\n",
       " 사망      7\n",
       " 사망     15\n",
       " 사망     97\n",
       " 사망      2\n",
       " Name: 2014, dtype: object,\n",
       " 응급진료결과별(1)\n",
       " 사망    508\n",
       " 사망     51\n",
       " 사망     55\n",
       " 사망     41\n",
       " 사망     10\n",
       " 사망     41\n",
       " 사망     14\n",
       " 사망      7\n",
       " 사망      -\n",
       " 사망     59\n",
       " 사망     25\n",
       " 사망     13\n",
       " 사망     14\n",
       " 사망     39\n",
       " 사망     11\n",
       " 사망     17\n",
       " 사망    106\n",
       " 사망      5\n",
       " Name: 2015, dtype: object,\n",
       " 응급진료결과별(1)\n",
       " 사망    503\n",
       " 사망     71\n",
       " 사망     49\n",
       " 사망     35\n",
       " 사망     22\n",
       " 사망     39\n",
       " 사망     10\n",
       " 사망      4\n",
       " 사망      -\n",
       " 사망     69\n",
       " 사망     19\n",
       " 사망     17\n",
       " 사망     12\n",
       " 사망     41\n",
       " 사망      6\n",
       " 사망     22\n",
       " 사망     82\n",
       " 사망      5\n",
       " Name: 2016, dtype: object,\n",
       " 응급진료결과별(1)\n",
       " 사망    508\n",
       " 사망     60\n",
       " 사망     53\n",
       " 사망     54\n",
       " 사망     17\n",
       " 사망     55\n",
       " 사망     16\n",
       " 사망      5\n",
       " 사망      -\n",
       " 사망     61\n",
       " 사망     18\n",
       " 사망     16\n",
       " 사망     17\n",
       " 사망     58\n",
       " 사망     10\n",
       " 사망     16\n",
       " 사망     46\n",
       " 사망      6\n",
       " Name: 2017, dtype: object,\n",
       " 응급진료결과별(1)\n",
       " 사망    555\n",
       " 사망     83\n",
       " 사망     51\n",
       " 사망     32\n",
       " 사망     25\n",
       " 사망     41\n",
       " 사망     16\n",
       " 사망      3\n",
       " 사망      -\n",
       " 사망     88\n",
       " 사망     31\n",
       " 사망     15\n",
       " 사망     24\n",
       " 사망     38\n",
       " 사망      7\n",
       " 사망     15\n",
       " 사망     78\n",
       " 사망      8\n",
       " Name: 2018, dtype: object,\n",
       " 응급진료결과별(1)\n",
       " 사망    492\n",
       " 사망     58\n",
       " 사망     35\n",
       " 사망     39\n",
       " 사망     18\n",
       " 사망     28\n",
       " 사망     16\n",
       " 사망      5\n",
       " 사망      -\n",
       " 사망     58\n",
       " 사망     32\n",
       " 사망     21\n",
       " 사망     20\n",
       " 사망     35\n",
       " 사망     14\n",
       " 사망     24\n",
       " 사망     81\n",
       " 사망      8\n",
       " Name: 2019, dtype: object,\n",
       " 응급진료결과별(1)\n",
       " 사망    565\n",
       " 사망     90\n",
       " 사망     22\n",
       " 사망     55\n",
       " 사망     19\n",
       " 사망     26\n",
       " 사망     24\n",
       " 사망      9\n",
       " 사망      3\n",
       " 사망     89\n",
       " 사망     18\n",
       " 사망     17\n",
       " 사망     24\n",
       " 사망     35\n",
       " 사망     15\n",
       " 사망     13\n",
       " 사망     99\n",
       " 사망      7\n",
       " Name: 2020, dtype: object,\n",
       " 응급진료결과별(1)\n",
       " 사망    623\n",
       " 사망     98\n",
       " 사망     32\n",
       " 사망     55\n",
       " 사망     35\n",
       " 사망     23\n",
       " 사망     20\n",
       " 사망      6\n",
       " 사망      5\n",
       " 사망    103\n",
       " 사망     24\n",
       " 사망     16\n",
       " 사망     10\n",
       " 사망     55\n",
       " 사망     13\n",
       " 사망     18\n",
       " 사망    102\n",
       " 사망      8\n",
       " Name: 2021, dtype: object]"
      ]
     },
     "execution_count": 87,
     "metadata": {},
     "output_type": "execute_result"
    }
   ],
   "source": [
    "die_list"
   ]
  },
  {
   "cell_type": "code",
   "execution_count": 88,
   "id": "6096b306",
   "metadata": {},
   "outputs": [
    {
     "data": {
      "text/plain": [
       "'-'"
      ]
     },
     "execution_count": 88,
     "metadata": {},
     "output_type": "execute_result"
    }
   ],
   "source": [
    "die_list[0][8]"
   ]
  },
  {
   "cell_type": "code",
   "execution_count": 89,
   "id": "cdddd782",
   "metadata": {},
   "outputs": [
    {
     "data": {
      "text/plain": [
       "'19'"
      ]
     },
     "execution_count": 89,
     "metadata": {},
     "output_type": "execute_result"
    }
   ],
   "source": [
    "die_list[0][2]"
   ]
  },
  {
   "cell_type": "code",
   "execution_count": 91,
   "id": "fecbcf92",
   "metadata": {},
   "outputs": [
    {
     "data": {
      "text/plain": [
       "'2'"
      ]
     },
     "execution_count": 91,
     "metadata": {},
     "output_type": "execute_result"
    }
   ],
   "source": [
    "die_list[0][17]"
   ]
  },
  {
   "cell_type": "code",
   "execution_count": 93,
   "id": "75b29e6e",
   "metadata": {},
   "outputs": [],
   "source": [
    "die_rate_dic = {}\n",
    "die_rate_list = []"
   ]
  },
  {
   "cell_type": "code",
   "execution_count": 113,
   "id": "28b0fb35",
   "metadata": {},
   "outputs": [],
   "source": [
    "loc_list.insert(0,'전체')"
   ]
  },
  {
   "cell_type": "code",
   "execution_count": 118,
   "id": "ce7ecd5c",
   "metadata": {},
   "outputs": [
    {
     "data": {
      "text/plain": [
       "['전체', '2014', '2015', '2016', '2017', '2018', '2019', '2020', '2021']"
      ]
     },
     "execution_count": 118,
     "metadata": {},
     "output_type": "execute_result"
    }
   ],
   "source": [
    "year_list"
   ]
  },
  {
   "cell_type": "code",
   "execution_count": 115,
   "id": "b5a9899e",
   "metadata": {},
   "outputs": [
    {
     "name": "stdout",
     "output_type": "stream",
     "text": [
      "전체\n",
      "112874\n",
      "565\n",
      "0.5005581444796853\n",
      "-----------\n",
      "서울\n",
      "24086\n",
      "90\n",
      "0.3736610479116499\n",
      "-----------\n",
      "부산\n",
      "6441\n",
      "22\n",
      "0.3415618692749573\n",
      "-----------\n",
      "대구\n",
      "7234\n",
      "55\n",
      "0.7602985899917059\n",
      "-----------\n",
      "인천\n",
      "6223\n",
      "19\n",
      "0.30531897798489477\n",
      "-----------\n",
      "광주\n",
      "5155\n",
      "26\n",
      "0.504364694471387\n",
      "-----------\n",
      "대전\n",
      "4412\n",
      "24\n",
      "0.543970988213962\n",
      "-----------\n",
      "울산\n",
      "1634\n",
      "9\n",
      "0.550795593635251\n",
      "-----------\n",
      "세종\n",
      "226\n",
      "3\n",
      "1.3274336283185841\n",
      "-----------\n",
      "경기\n",
      "25072\n",
      "89\n",
      "0.354977664326739\n",
      "-----------\n",
      "강원\n",
      "4694\n",
      "18\n",
      "0.3834682573498083\n",
      "-----------\n",
      "충북\n",
      "3347\n",
      "17\n",
      "0.5079175380938153\n",
      "-----------\n",
      "충남\n",
      "3664\n",
      "24\n",
      "0.6550218340611353\n",
      "-----------\n",
      "전북\n",
      "6195\n",
      "35\n",
      "0.5649717514124294\n",
      "-----------\n",
      "전남\n",
      "2835\n",
      "15\n",
      "0.5291005291005291\n",
      "-----------\n",
      "경북\n",
      "4243\n",
      "13\n",
      "0.3063869903370257\n",
      "-----------\n",
      "경남\n",
      "5575\n",
      "99\n",
      "1.7757847533632287\n",
      "-----------\n",
      "제주\n",
      "1838\n",
      "7\n",
      "0.38084874863982593\n",
      "-----------\n",
      "[0.5005581444796853, 0.3736610479116499, 0.3415618692749573, 0.7602985899917059, 0.30531897798489477, 0.504364694471387, 0.543970988213962, 0.550795593635251, 1.3274336283185841, 0.354977664326739, 0.3834682573498083, 0.5079175380938153, 0.6550218340611353, 0.5649717514124294, 0.5291005291005291, 0.3063869903370257, 1.7757847533632287, 0.38084874863982593]\n"
     ]
    }
   ],
   "source": [
    "temp = []\n",
    "for i in range(18):\n",
    "    print()\n",
    "    print(loc_list[i])\n",
    "    if tot_list[6][i] == '-':\n",
    "        temp.append(0)\n",
    "        continue\n",
    "    \n",
    "    tot = int(tot_list[6][i])\n",
    "    die = int(die_list[6][i])\n",
    "    print(tot)\n",
    "    print(die)\n",
    "    \n",
    "    rate = (die/tot)*100\n",
    "    print(rate)\n",
    "    print('-----------')\n",
    "    temp.append(rate)\n",
    "print(temp)"
   ]
  },
  {
   "cell_type": "code",
   "execution_count": 112,
   "id": "2c98e042",
   "metadata": {},
   "outputs": [
    {
     "name": "stdout",
     "output_type": "stream",
     "text": [
      "['서울', '부산', '대구', '인천', '광주', '대전', '울산', '세종', '경기', '강원', '충북', '충남', '전북', '전남', '경북', '경남', '제주']\n"
     ]
    }
   ],
   "source": [
    "print(loc_list)"
   ]
  },
  {
   "cell_type": "code",
   "execution_count": null,
   "id": "37422e5b",
   "metadata": {},
   "outputs": [],
   "source": []
  }
 ],
 "metadata": {
  "kernelspec": {
   "display_name": "Python 3 (ipykernel)",
   "language": "python",
   "name": "python3"
  },
  "language_info": {
   "codemirror_mode": {
    "name": "ipython",
    "version": 3
   },
   "file_extension": ".py",
   "mimetype": "text/x-python",
   "name": "python",
   "nbconvert_exporter": "python",
   "pygments_lexer": "ipython3",
   "version": "3.9.12"
  }
 },
 "nbformat": 4,
 "nbformat_minor": 5
}
