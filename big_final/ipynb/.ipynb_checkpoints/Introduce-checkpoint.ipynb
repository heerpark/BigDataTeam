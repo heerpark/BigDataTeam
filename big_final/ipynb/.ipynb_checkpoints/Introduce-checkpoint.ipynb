{
 "cells": [
  {
   "cell_type": "code",
   "execution_count": 1,
   "id": "d5e6b655",
   "metadata": {},
   "outputs": [],
   "source": [
    "import pandas as pd\n"
   ]
  },
  {
   "cell_type": "code",
   "execution_count": 24,
   "id": "a50ea713",
   "metadata": {},
   "outputs": [],
   "source": [
    "df = pd.DataFrame(\n",
    "{\n",
    "    '고령화': [11, 11.5, 11.9, 12.4, 12.8, 13.2, 13.8, 14.3, 14.9, 15.7],\n",
    "    '데이터':[50.5, 50.8, 51.4, 52.0, 52.7, 53.5, 54.6, 56.5, 57.6, 59.8]\n",
    "}, index = [2011, 2012, 2013, 2014, 2015, 2016, 2017, 2018, 2019, 2020]\n",
    ")\n"
   ]
  },
  {
   "cell_type": "code",
   "execution_count": 25,
   "id": "1612cc93",
   "metadata": {},
   "outputs": [
    {
     "data": {
      "text/html": [
       "<div>\n",
       "<style scoped>\n",
       "    .dataframe tbody tr th:only-of-type {\n",
       "        vertical-align: middle;\n",
       "    }\n",
       "\n",
       "    .dataframe tbody tr th {\n",
       "        vertical-align: top;\n",
       "    }\n",
       "\n",
       "    .dataframe thead th {\n",
       "        text-align: right;\n",
       "    }\n",
       "</style>\n",
       "<table border=\"1\" class=\"dataframe\">\n",
       "  <thead>\n",
       "    <tr style=\"text-align: right;\">\n",
       "      <th></th>\n",
       "      <th>고령화</th>\n",
       "      <th>데이터</th>\n",
       "    </tr>\n",
       "  </thead>\n",
       "  <tbody>\n",
       "    <tr>\n",
       "      <th>2011</th>\n",
       "      <td>11.0</td>\n",
       "      <td>50.5</td>\n",
       "    </tr>\n",
       "    <tr>\n",
       "      <th>2012</th>\n",
       "      <td>11.5</td>\n",
       "      <td>50.8</td>\n",
       "    </tr>\n",
       "    <tr>\n",
       "      <th>2013</th>\n",
       "      <td>11.9</td>\n",
       "      <td>51.4</td>\n",
       "    </tr>\n",
       "    <tr>\n",
       "      <th>2014</th>\n",
       "      <td>12.4</td>\n",
       "      <td>52.0</td>\n",
       "    </tr>\n",
       "    <tr>\n",
       "      <th>2015</th>\n",
       "      <td>12.8</td>\n",
       "      <td>52.7</td>\n",
       "    </tr>\n",
       "    <tr>\n",
       "      <th>2016</th>\n",
       "      <td>13.2</td>\n",
       "      <td>53.5</td>\n",
       "    </tr>\n",
       "    <tr>\n",
       "      <th>2017</th>\n",
       "      <td>13.8</td>\n",
       "      <td>54.6</td>\n",
       "    </tr>\n",
       "    <tr>\n",
       "      <th>2018</th>\n",
       "      <td>14.3</td>\n",
       "      <td>56.5</td>\n",
       "    </tr>\n",
       "    <tr>\n",
       "      <th>2019</th>\n",
       "      <td>14.9</td>\n",
       "      <td>57.6</td>\n",
       "    </tr>\n",
       "    <tr>\n",
       "      <th>2020</th>\n",
       "      <td>15.7</td>\n",
       "      <td>59.8</td>\n",
       "    </tr>\n",
       "  </tbody>\n",
       "</table>\n",
       "</div>"
      ],
      "text/plain": [
       "       고령화   데이터\n",
       "2011  11.0  50.5\n",
       "2012  11.5  50.8\n",
       "2013  11.9  51.4\n",
       "2014  12.4  52.0\n",
       "2015  12.8  52.7\n",
       "2016  13.2  53.5\n",
       "2017  13.8  54.6\n",
       "2018  14.3  56.5\n",
       "2019  14.9  57.6\n",
       "2020  15.7  59.8"
      ]
     },
     "execution_count": 25,
     "metadata": {},
     "output_type": "execute_result"
    }
   ],
   "source": [
    "df"
   ]
  },
  {
   "cell_type": "code",
   "execution_count": 26,
   "id": "feb1df40",
   "metadata": {},
   "outputs": [],
   "source": [
    "from statsmodels.formula.api import ols,glm"
   ]
  },
  {
   "cell_type": "code",
   "execution_count": 27,
   "id": "681a65d6",
   "metadata": {},
   "outputs": [],
   "source": [
    "Rformula = '데이터 ~ 고령화'"
   ]
  },
  {
   "cell_type": "code",
   "execution_count": 28,
   "id": "e3750e2c",
   "metadata": {},
   "outputs": [],
   "source": [
    "regression_result = ols(Rformula, data=df).fit()"
   ]
  },
  {
   "cell_type": "code",
   "execution_count": 29,
   "id": "4b17515e",
   "metadata": {},
   "outputs": [
    {
     "name": "stderr",
     "output_type": "stream",
     "text": [
      "/Users/phr/opt/anaconda3/lib/python3.9/site-packages/scipy/stats/stats.py:1541: UserWarning: kurtosistest only valid for n>=20 ... continuing anyway, n=10\n",
      "  warnings.warn(\"kurtosistest only valid for n>=20 ... continuing \"\n"
     ]
    },
    {
     "data": {
      "text/html": [
       "<table class=\"simpletable\">\n",
       "<caption>OLS Regression Results</caption>\n",
       "<tr>\n",
       "  <th>Dep. Variable:</th>           <td>데이터</td>       <th>  R-squared:         </th> <td>   0.970</td>\n",
       "</tr>\n",
       "<tr>\n",
       "  <th>Model:</th>                   <td>OLS</td>       <th>  Adj. R-squared:    </th> <td>   0.967</td>\n",
       "</tr>\n",
       "<tr>\n",
       "  <th>Method:</th>             <td>Least Squares</td>  <th>  F-statistic:       </th> <td>   262.8</td>\n",
       "</tr>\n",
       "<tr>\n",
       "  <th>Date:</th>             <td>Sun, 18 Jun 2023</td> <th>  Prob (F-statistic):</th> <td>2.11e-07</td>\n",
       "</tr>\n",
       "<tr>\n",
       "  <th>Time:</th>                 <td>14:43:56</td>     <th>  Log-Likelihood:    </th> <td> -7.4743</td>\n",
       "</tr>\n",
       "<tr>\n",
       "  <th>No. Observations:</th>      <td>    10</td>      <th>  AIC:               </th> <td>   18.95</td>\n",
       "</tr>\n",
       "<tr>\n",
       "  <th>Df Residuals:</th>          <td>     8</td>      <th>  BIC:               </th> <td>   19.55</td>\n",
       "</tr>\n",
       "<tr>\n",
       "  <th>Df Model:</th>              <td>     1</td>      <th>                     </th>     <td> </td>   \n",
       "</tr>\n",
       "<tr>\n",
       "  <th>Covariance Type:</th>      <td>nonrobust</td>    <th>                     </th>     <td> </td>   \n",
       "</tr>\n",
       "</table>\n",
       "<table class=\"simpletable\">\n",
       "<tr>\n",
       "      <td></td>         <th>coef</th>     <th>std err</th>      <th>t</th>      <th>P>|t|</th>  <th>[0.025</th>    <th>0.975]</th>  \n",
       "</tr>\n",
       "<tr>\n",
       "  <th>Intercept</th> <td>   27.3066</td> <td>    1.653</td> <td>   16.521</td> <td> 0.000</td> <td>   23.495</td> <td>   31.118</td>\n",
       "</tr>\n",
       "<tr>\n",
       "  <th>고령화</th>       <td>    2.0254</td> <td>    0.125</td> <td>   16.211</td> <td> 0.000</td> <td>    1.737</td> <td>    2.313</td>\n",
       "</tr>\n",
       "</table>\n",
       "<table class=\"simpletable\">\n",
       "<tr>\n",
       "  <th>Omnibus:</th>       <td> 0.802</td> <th>  Durbin-Watson:     </th> <td>   0.722</td>\n",
       "</tr>\n",
       "<tr>\n",
       "  <th>Prob(Omnibus):</th> <td> 0.670</td> <th>  Jarque-Bera (JB):  </th> <td>   0.666</td>\n",
       "</tr>\n",
       "<tr>\n",
       "  <th>Skew:</th>          <td> 0.343</td> <th>  Prob(JB):          </th> <td>   0.717</td>\n",
       "</tr>\n",
       "<tr>\n",
       "  <th>Kurtosis:</th>      <td> 1.938</td> <th>  Cond. No.          </th> <td>    122.</td>\n",
       "</tr>\n",
       "</table><br/><br/>Notes:<br/>[1] Standard Errors assume that the covariance matrix of the errors is correctly specified."
      ],
      "text/plain": [
       "<class 'statsmodels.iolib.summary.Summary'>\n",
       "\"\"\"\n",
       "                            OLS Regression Results                            \n",
       "==============================================================================\n",
       "Dep. Variable:                    데이터   R-squared:                       0.970\n",
       "Model:                            OLS   Adj. R-squared:                  0.967\n",
       "Method:                 Least Squares   F-statistic:                     262.8\n",
       "Date:                Sun, 18 Jun 2023   Prob (F-statistic):           2.11e-07\n",
       "Time:                        14:43:56   Log-Likelihood:                -7.4743\n",
       "No. Observations:                  10   AIC:                             18.95\n",
       "Df Residuals:                       8   BIC:                             19.55\n",
       "Df Model:                           1                                         \n",
       "Covariance Type:            nonrobust                                         \n",
       "==============================================================================\n",
       "                 coef    std err          t      P>|t|      [0.025      0.975]\n",
       "------------------------------------------------------------------------------\n",
       "Intercept     27.3066      1.653     16.521      0.000      23.495      31.118\n",
       "고령화            2.0254      0.125     16.211      0.000       1.737       2.313\n",
       "==============================================================================\n",
       "Omnibus:                        0.802   Durbin-Watson:                   0.722\n",
       "Prob(Omnibus):                  0.670   Jarque-Bera (JB):                0.666\n",
       "Skew:                           0.343   Prob(JB):                        0.717\n",
       "Kurtosis:                       1.938   Cond. No.                         122.\n",
       "==============================================================================\n",
       "\n",
       "Notes:\n",
       "[1] Standard Errors assume that the covariance matrix of the errors is correctly specified.\n",
       "\"\"\""
      ]
     },
     "execution_count": 29,
     "metadata": {},
     "output_type": "execute_result"
    }
   ],
   "source": [
    "regression_result.summary()"
   ]
  },
  {
   "cell_type": "code",
   "execution_count": 30,
   "id": "b0403a16",
   "metadata": {},
   "outputs": [],
   "source": [
    "df_predict = pd.DataFrame({'고령화':[15.7, 20.6, 25.5, 30.1, 34.4, 37.4, 40.1]},\n",
    "                         index = [2020, 2025, 2030, 2035, 2040, 2045, 2050]) "
   ]
  },
  {
   "cell_type": "code",
   "execution_count": 31,
   "id": "02d3df03",
   "metadata": {},
   "outputs": [],
   "source": [
    "sample = df_predict[:][:]"
   ]
  },
  {
   "cell_type": "code",
   "execution_count": 34,
   "id": "fadfda5a",
   "metadata": {},
   "outputs": [],
   "source": [
    "sample_predict = regression_result.predict(sample)"
   ]
  },
  {
   "cell_type": "code",
   "execution_count": 35,
   "id": "c557677c",
   "metadata": {},
   "outputs": [
    {
     "data": {
      "text/plain": [
       "2020     59.104650\n",
       "2025     69.028878\n",
       "2030     78.953107\n",
       "2035     88.269730\n",
       "2040     96.978747\n",
       "2045    103.054805\n",
       "2050    108.523258\n",
       "dtype: float64"
      ]
     },
     "execution_count": 35,
     "metadata": {},
     "output_type": "execute_result"
    }
   ],
   "source": [
    "sample_predict"
   ]
  },
  {
   "cell_type": "code",
   "execution_count": 39,
   "id": "9e501ee0",
   "metadata": {},
   "outputs": [],
   "source": [
    "df_predict2 = pd.DataFrame({'고령화':[16.6, 18.4, 20.6, 22.7, 24.6, 26.4, 28.1, 30.1]},\n",
    "                          index=[2021, 2023, 2025, 2027, 2029, 2031, 2033, 2035 ])"
   ]
  },
  {
   "cell_type": "code",
   "execution_count": 40,
   "id": "6c2b8fbc",
   "metadata": {},
   "outputs": [],
   "source": [
    "sample_predict2 = regression_result.predict(df_predict2)"
   ]
  },
  {
   "cell_type": "code",
   "execution_count": 41,
   "id": "228a93fe",
   "metadata": {},
   "outputs": [
    {
     "data": {
      "text/plain": [
       "2021    60.927467\n",
       "2023    64.573102\n",
       "2025    69.028878\n",
       "2027    73.282119\n",
       "2029    77.130289\n",
       "2031    80.775924\n",
       "2033    84.219024\n",
       "2035    88.269730\n",
       "dtype: float64"
      ]
     },
     "execution_count": 41,
     "metadata": {},
     "output_type": "execute_result"
    }
   ],
   "source": [
    "sample_predict2"
   ]
  },
  {
   "cell_type": "code",
   "execution_count": 42,
   "id": "18f9eb3b",
   "metadata": {},
   "outputs": [],
   "source": [
    "df_predict2['60세이상비율'] = sample_predict2"
   ]
  },
  {
   "cell_type": "code",
   "execution_count": 43,
   "id": "08ed3891",
   "metadata": {},
   "outputs": [
    {
     "data": {
      "text/html": [
       "<div>\n",
       "<style scoped>\n",
       "    .dataframe tbody tr th:only-of-type {\n",
       "        vertical-align: middle;\n",
       "    }\n",
       "\n",
       "    .dataframe tbody tr th {\n",
       "        vertical-align: top;\n",
       "    }\n",
       "\n",
       "    .dataframe thead th {\n",
       "        text-align: right;\n",
       "    }\n",
       "</style>\n",
       "<table border=\"1\" class=\"dataframe\">\n",
       "  <thead>\n",
       "    <tr style=\"text-align: right;\">\n",
       "      <th></th>\n",
       "      <th>고령화</th>\n",
       "      <th>60세이상비율</th>\n",
       "    </tr>\n",
       "  </thead>\n",
       "  <tbody>\n",
       "    <tr>\n",
       "      <th>2021</th>\n",
       "      <td>16.6</td>\n",
       "      <td>60.927467</td>\n",
       "    </tr>\n",
       "    <tr>\n",
       "      <th>2023</th>\n",
       "      <td>18.4</td>\n",
       "      <td>64.573102</td>\n",
       "    </tr>\n",
       "    <tr>\n",
       "      <th>2025</th>\n",
       "      <td>20.6</td>\n",
       "      <td>69.028878</td>\n",
       "    </tr>\n",
       "    <tr>\n",
       "      <th>2027</th>\n",
       "      <td>22.7</td>\n",
       "      <td>73.282119</td>\n",
       "    </tr>\n",
       "    <tr>\n",
       "      <th>2029</th>\n",
       "      <td>24.6</td>\n",
       "      <td>77.130289</td>\n",
       "    </tr>\n",
       "    <tr>\n",
       "      <th>2031</th>\n",
       "      <td>26.4</td>\n",
       "      <td>80.775924</td>\n",
       "    </tr>\n",
       "    <tr>\n",
       "      <th>2033</th>\n",
       "      <td>28.1</td>\n",
       "      <td>84.219024</td>\n",
       "    </tr>\n",
       "    <tr>\n",
       "      <th>2035</th>\n",
       "      <td>30.1</td>\n",
       "      <td>88.269730</td>\n",
       "    </tr>\n",
       "  </tbody>\n",
       "</table>\n",
       "</div>"
      ],
      "text/plain": [
       "       고령화    60세이상비율\n",
       "2021  16.6  60.927467\n",
       "2023  18.4  64.573102\n",
       "2025  20.6  69.028878\n",
       "2027  22.7  73.282119\n",
       "2029  24.6  77.130289\n",
       "2031  26.4  80.775924\n",
       "2033  28.1  84.219024\n",
       "2035  30.1  88.269730"
      ]
     },
     "execution_count": 43,
     "metadata": {},
     "output_type": "execute_result"
    }
   ],
   "source": [
    "df_predict2"
   ]
  },
  {
   "cell_type": "code",
   "execution_count": 45,
   "id": "d405fa3d",
   "metadata": {},
   "outputs": [],
   "source": [
    "df_predict2.to_csv('시각화.csv')"
   ]
  },
  {
   "cell_type": "code",
   "execution_count": null,
   "id": "e4f2f60e",
   "metadata": {},
   "outputs": [],
   "source": []
  }
 ],
 "metadata": {
  "kernelspec": {
   "display_name": "Python 3 (ipykernel)",
   "language": "python",
   "name": "python3"
  },
  "language_info": {
   "codemirror_mode": {
    "name": "ipython",
    "version": 3
   },
   "file_extension": ".py",
   "mimetype": "text/x-python",
   "name": "python",
   "nbconvert_exporter": "python",
   "pygments_lexer": "ipython3",
   "version": "3.9.12"
  }
 },
 "nbformat": 4,
 "nbformat_minor": 5
}
